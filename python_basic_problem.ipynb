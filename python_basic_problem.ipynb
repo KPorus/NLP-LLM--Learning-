{
  "nbformat": 4,
  "nbformat_minor": 0,
  "metadata": {
    "colab": {
      "provenance": [],
      "authorship_tag": "ABX9TyPwyo9+K/oy4ceQzxT5T+U8",
      "include_colab_link": true
    },
    "kernelspec": {
      "name": "python3",
      "display_name": "Python 3"
    },
    "language_info": {
      "name": "python"
    }
  },
  "cells": [
    {
      "cell_type": "markdown",
      "metadata": {
        "id": "view-in-github",
        "colab_type": "text"
      },
      "source": [
        "<a href=\"https://colab.research.google.com/github/KPorus/machine-learning-and-python/blob/main/python_basic_problem.ipynb\" target=\"_parent\"><img src=\"https://colab.research.google.com/assets/colab-badge.svg\" alt=\"Open In Colab\"/></a>"
      ]
    },
    {
      "cell_type": "markdown",
      "source": [
        "# prime number checker"
      ],
      "metadata": {
        "id": "Pr_vNPumXENz"
      }
    },
    {
      "cell_type": "code",
      "source": [
        "x=int(input(\"enter a number: \"))\n",
        "\n",
        "def prime(x):\n",
        "    for i in range(2,x):\n",
        "        if x%i==0:\n",
        "            return False\n",
        "    return True\n",
        "\n",
        "print(prime(x))"
      ],
      "metadata": {
        "colab": {
          "base_uri": "https://localhost:8080/"
        },
        "id": "T1rCFUPVXIfl",
        "outputId": "9c26df7d-0294-463f-f872-5f6e9694529c"
      },
      "execution_count": null,
      "outputs": [
        {
          "output_type": "stream",
          "name": "stdout",
          "text": [
            "enter a number4\n",
            "False\n"
          ]
        }
      ]
    },
    {
      "cell_type": "markdown",
      "source": [
        "#list Manipulation"
      ],
      "metadata": {
        "id": "5_BKnPe-VN02"
      }
    },
    {
      "cell_type": "code",
      "execution_count": null,
      "metadata": {
        "colab": {
          "base_uri": "https://localhost:8080/"
        },
        "id": "0k4oBaC6VKi3",
        "outputId": "41dd8b4d-1601-43f3-bc26-e21991cdb798"
      },
      "outputs": [
        {
          "output_type": "stream",
          "name": "stdout",
          "text": [
            "    0\n",
            "0  10\n",
            "1  20\n",
            "2  30\n",
            "3  40\n",
            "4  50\n",
            "max:50\n",
            "min:10\n",
            "mean:30.0\n"
          ]
        }
      ],
      "source": [
        "import pandas as pd\n",
        "li = [10,20,30,40,50]\n",
        "\n",
        "df = pd.DataFrame(li)\n",
        "print(df)\n",
        "print(f\"max:{df[0].max()}\")\n",
        "print(f\"min:{df[0].min()}\")\n",
        "print(f\"mean:{df[0].mean()}\")"
      ]
    },
    {
      "cell_type": "markdown",
      "source": [
        "#reverse string"
      ],
      "metadata": {
        "id": "9zCVH8P-Wwdf"
      }
    },
    {
      "cell_type": "code",
      "source": [
        "s = \"hello\"\n",
        "while(len(s)>0):\n",
        "    print(s[-1],end=\"\")\n",
        "    s = s[:-1]"
      ],
      "metadata": {
        "colab": {
          "base_uri": "https://localhost:8080/"
        },
        "id": "P72CP27CWwH7",
        "outputId": "6bd80941-bf84-4819-dd78-d7d8c2f4da38"
      },
      "execution_count": null,
      "outputs": [
        {
          "output_type": "stream",
          "name": "stdout",
          "text": [
            "olleh"
          ]
        }
      ]
    },
    {
      "cell_type": "markdown",
      "source": [
        "#Multiplication Table using nested loop"
      ],
      "metadata": {
        "id": "-H2OCUA5mOip"
      }
    },
    {
      "cell_type": "code",
      "source": [
        "x = int(input(\"enter a number: \"))\n",
        "\n",
        "for i in range(1,x+1):\n",
        "    for j in range(1,11):\n",
        "        print(f\"{i} x {j} = {i*j}\",end=\"\\n \")"
      ],
      "metadata": {
        "colab": {
          "base_uri": "https://localhost:8080/"
        },
        "id": "dEUMrSyQmgUP",
        "outputId": "aaeff0c3-1b35-4525-c677-990660e80779"
      },
      "execution_count": null,
      "outputs": [
        {
          "output_type": "stream",
          "name": "stdout",
          "text": [
            "enter a number: 5\n",
            "1 x 1 = 1\n",
            " 1 x 2 = 2\n",
            " 1 x 3 = 3\n",
            " 1 x 4 = 4\n",
            " 1 x 5 = 5\n",
            " 1 x 6 = 6\n",
            " 1 x 7 = 7\n",
            " 1 x 8 = 8\n",
            " 1 x 9 = 9\n",
            " 1 x 10 = 10\n",
            " 2 x 1 = 2\n",
            " 2 x 2 = 4\n",
            " 2 x 3 = 6\n",
            " 2 x 4 = 8\n",
            " 2 x 5 = 10\n",
            " 2 x 6 = 12\n",
            " 2 x 7 = 14\n",
            " 2 x 8 = 16\n",
            " 2 x 9 = 18\n",
            " 2 x 10 = 20\n",
            " 3 x 1 = 3\n",
            " 3 x 2 = 6\n",
            " 3 x 3 = 9\n",
            " 3 x 4 = 12\n",
            " 3 x 5 = 15\n",
            " 3 x 6 = 18\n",
            " 3 x 7 = 21\n",
            " 3 x 8 = 24\n",
            " 3 x 9 = 27\n",
            " 3 x 10 = 30\n",
            " 4 x 1 = 4\n",
            " 4 x 2 = 8\n",
            " 4 x 3 = 12\n",
            " 4 x 4 = 16\n",
            " 4 x 5 = 20\n",
            " 4 x 6 = 24\n",
            " 4 x 7 = 28\n",
            " 4 x 8 = 32\n",
            " 4 x 9 = 36\n",
            " 4 x 10 = 40\n",
            " 5 x 1 = 5\n",
            " 5 x 2 = 10\n",
            " 5 x 3 = 15\n",
            " 5 x 4 = 20\n",
            " 5 x 5 = 25\n",
            " 5 x 6 = 30\n",
            " 5 x 7 = 35\n",
            " 5 x 8 = 40\n",
            " 5 x 9 = 45\n",
            " 5 x 10 = 50\n",
            " "
          ]
        }
      ]
    },
    {
      "cell_type": "markdown",
      "source": [
        "#prints Patterns\n"
      ],
      "metadata": {
        "id": "3eEINsV2qCWn"
      }
    },
    {
      "cell_type": "code",
      "source": [
        "x = int(input(\"enter a number: \"))\n",
        "\n",
        "for i in range(1,x+1):\n",
        "    for j in range(1,i+1):\n",
        "        print(\"*\",end=\" \")\n",
        "    print()"
      ],
      "metadata": {
        "colab": {
          "base_uri": "https://localhost:8080/"
        },
        "id": "Ueh2GJrSqGQU",
        "outputId": "bbefc712-f77c-471e-d3b1-0fa293b04524"
      },
      "execution_count": null,
      "outputs": [
        {
          "output_type": "stream",
          "name": "stdout",
          "text": [
            "enter a number: 5\n",
            "* \n",
            "* * \n",
            "* * * \n",
            "* * * * \n",
            "* * * * * \n"
          ]
        }
      ]
    },
    {
      "cell_type": "markdown",
      "source": [
        "#Matrix Multiplication"
      ],
      "metadata": {
        "id": "23HIV9uYqvpC"
      }
    },
    {
      "cell_type": "code",
      "source": [
        "x = [2,3,4]\n",
        "y = [5,6,7]\n",
        "\n",
        "for i in range(len(x)):\n",
        "    for j in range(len(y)):\n",
        "        print(x[i]*y[j],end=\"\\n\")\n",
        "    print()"
      ],
      "metadata": {
        "colab": {
          "base_uri": "https://localhost:8080/"
        },
        "id": "yZpNWm18qwxF",
        "outputId": "d5d4e395-3f60-4489-a192-f53374fd1204"
      },
      "execution_count": null,
      "outputs": [
        {
          "output_type": "stream",
          "name": "stdout",
          "text": [
            "10\n",
            "12\n",
            "14\n",
            "\n",
            "15\n",
            "18\n",
            "21\n",
            "\n",
            "20\n",
            "24\n",
            "28\n",
            "\n"
          ]
        }
      ]
    },
    {
      "cell_type": "markdown",
      "source": [
        "#Chessboard pattern"
      ],
      "metadata": {
        "id": "EhtFOBQLtN57"
      }
    },
    {
      "cell_type": "code",
      "source": [
        "import numpy as np\n",
        "\n",
        "chess = np.zeros((8,8),dtype=int)\n",
        "print(chess)\n",
        "chess[1::2,::2] = 1\n",
        "chess[::2,1::2] = 1\n",
        "print(chess)"
      ],
      "metadata": {
        "colab": {
          "base_uri": "https://localhost:8080/"
        },
        "id": "8fl4lIwhtQ9V",
        "outputId": "2298cb97-3c0c-46da-c52b-1165414b8228"
      },
      "execution_count": null,
      "outputs": [
        {
          "output_type": "stream",
          "name": "stdout",
          "text": [
            "[[0 0 0 0 0 0 0 0]\n",
            " [0 0 0 0 0 0 0 0]\n",
            " [0 0 0 0 0 0 0 0]\n",
            " [0 0 0 0 0 0 0 0]\n",
            " [0 0 0 0 0 0 0 0]\n",
            " [0 0 0 0 0 0 0 0]\n",
            " [0 0 0 0 0 0 0 0]\n",
            " [0 0 0 0 0 0 0 0]]\n",
            "[[0 1 0 1 0 1 0 1]\n",
            " [1 0 1 0 1 0 1 0]\n",
            " [0 1 0 1 0 1 0 1]\n",
            " [1 0 1 0 1 0 1 0]\n",
            " [0 1 0 1 0 1 0 1]\n",
            " [1 0 1 0 1 0 1 0]\n",
            " [0 1 0 1 0 1 0 1]\n",
            " [1 0 1 0 1 0 1 0]]\n"
          ]
        }
      ]
    },
    {
      "cell_type": "markdown",
      "source": [
        "#Number Pyramid"
      ],
      "metadata": {
        "id": "Y1ZHO6VUrS24"
      }
    },
    {
      "cell_type": "code",
      "source": [
        "x = int(input(\"enter a number: \"))\n",
        "\n",
        "for i in range(1,x+1):\n",
        "    for j in range(1,i+1):\n",
        "      print(i, end=\" \")\n",
        "    print()\n"
      ],
      "metadata": {
        "colab": {
          "base_uri": "https://localhost:8080/"
        },
        "id": "nPOBzCc9rWL3",
        "outputId": "6cf23f12-1ab5-4e0c-b714-0bbcdabf5921"
      },
      "execution_count": null,
      "outputs": [
        {
          "output_type": "stream",
          "name": "stdout",
          "text": [
            "enter a number: 5\n",
            "1 \n",
            "2 2 \n",
            "3 3 3 \n",
            "4 4 4 4 \n",
            "5 5 5 5 5 \n"
          ]
        }
      ]
    },
    {
      "cell_type": "markdown",
      "source": [
        "#List sum"
      ],
      "metadata": {
        "id": "wdoi-A9JtNF4"
      }
    },
    {
      "cell_type": "code",
      "source": [
        "x = [x for x in range(1,11)]\n",
        "print(x)\n",
        "print(sum(x))"
      ],
      "metadata": {
        "colab": {
          "base_uri": "https://localhost:8080/"
        },
        "id": "yMarziPnuxKG",
        "outputId": "f4253c5f-e438-4275-db8d-c0579d33955c"
      },
      "execution_count": null,
      "outputs": [
        {
          "output_type": "stream",
          "name": "stdout",
          "text": [
            "[1, 2, 3, 4, 5, 6, 7, 8, 9, 10]\n",
            "55\n"
          ]
        }
      ]
    },
    {
      "cell_type": "markdown",
      "source": [
        "#List avg"
      ],
      "metadata": {
        "id": "i93Kek4lu3xd"
      }
    },
    {
      "cell_type": "code",
      "source": [
        "x = [x for x in range(1,11)]\n",
        "print(x)\n",
        "print(sum(x)/len(x))"
      ],
      "metadata": {
        "colab": {
          "base_uri": "https://localhost:8080/"
        },
        "id": "FLx2juA2u3Oh",
        "outputId": "18480b6c-b61b-435f-badb-0381d03fb7e9"
      },
      "execution_count": null,
      "outputs": [
        {
          "output_type": "stream",
          "name": "stdout",
          "text": [
            "[1, 2, 3, 4, 5, 6, 7, 8, 9, 10]\n",
            "5.5\n"
          ]
        }
      ]
    },
    {
      "cell_type": "markdown",
      "source": [
        "#list max and min"
      ],
      "metadata": {
        "id": "JpM5anWixpp8"
      }
    },
    {
      "cell_type": "code",
      "source": [
        "x = [i for i in range(10)]\n",
        "print(x)\n",
        "print(max(x))\n",
        "print(min(x))"
      ],
      "metadata": {
        "colab": {
          "base_uri": "https://localhost:8080/"
        },
        "id": "9NhMHlntxsW8",
        "outputId": "8025272f-4dd8-4eff-f924-995823d65159"
      },
      "execution_count": null,
      "outputs": [
        {
          "output_type": "stream",
          "name": "stdout",
          "text": [
            "[0, 1, 2, 3, 4, 5, 6, 7, 8, 9]\n",
            "9\n",
            "0\n"
          ]
        }
      ]
    },
    {
      "cell_type": "markdown",
      "source": [
        "#List sort"
      ],
      "metadata": {
        "id": "JVXBtBkwyAOs"
      }
    },
    {
      "cell_type": "code",
      "source": [
        "import random\n",
        "x = [random.randint(1, 10) for _ in range(10)]\n",
        "print(x)\n",
        "x.sort()\n",
        "print(x)"
      ],
      "metadata": {
        "colab": {
          "base_uri": "https://localhost:8080/"
        },
        "id": "0Y7TETZPyCIK",
        "outputId": "75be8402-feae-4ec3-e268-8d9418615f4a"
      },
      "execution_count": null,
      "outputs": [
        {
          "output_type": "stream",
          "name": "stdout",
          "text": [
            "[1, 6, 3, 9, 4, 8, 5, 1, 8, 6]\n",
            "[1, 1, 3, 4, 5, 6, 6, 8, 8, 9]\n"
          ]
        }
      ]
    },
    {
      "cell_type": "markdown",
      "source": [
        "#list filter"
      ],
      "metadata": {
        "id": "hK-69C96yfXV"
      }
    },
    {
      "cell_type": "code",
      "source": [
        "x = [i for i in range(10)]\n",
        "print(x)\n",
        "x = [i for i in x if i%2==0]\n",
        "print(x)"
      ],
      "metadata": {
        "colab": {
          "base_uri": "https://localhost:8080/"
        },
        "id": "QKaQHi8cyiFY",
        "outputId": "421ed49d-bd65-4ceb-b548-8e22c8602800"
      },
      "execution_count": null,
      "outputs": [
        {
          "output_type": "stream",
          "name": "stdout",
          "text": [
            "[0, 1, 2, 3, 4, 5, 6, 7, 8, 9]\n",
            "[0, 2, 4, 6, 8]\n"
          ]
        }
      ]
    },
    {
      "cell_type": "markdown",
      "source": [
        "#list reversed"
      ],
      "metadata": {
        "id": "EjqE3efLydW_"
      }
    },
    {
      "cell_type": "code",
      "source": [
        "import random\n",
        "x = [random.randint(1, 10) for _ in range(10)]\n",
        "print(x)\n",
        "x.sort(reverse=True)\n",
        "print(x)"
      ],
      "metadata": {
        "colab": {
          "base_uri": "https://localhost:8080/"
        },
        "id": "s46PDnq9vDnZ",
        "outputId": "eda32950-6b49-48bc-f9e4-daf18fc7fe71"
      },
      "execution_count": null,
      "outputs": [
        {
          "output_type": "stream",
          "name": "stdout",
          "text": [
            "[5, 7, 10, 1, 10, 5, 3, 10, 8, 8]\n",
            "[10, 10, 10, 8, 8, 7, 5, 5, 3, 1]\n"
          ]
        }
      ]
    },
    {
      "cell_type": "markdown",
      "source": [
        "#list manipulation"
      ],
      "metadata": {
        "id": "80NVHdaCzipn"
      }
    },
    {
      "cell_type": "code",
      "source": [
        "import random\n",
        "x = [random.randint(1,10) for _ in range(10)]\n",
        "print(x)\n",
        "y = [random.randint(1,10) for _ in range(10)]\n",
        "print(y)\n",
        "\n",
        "z = list(set(x) & set(y))\n",
        "print(z)"
      ],
      "metadata": {
        "colab": {
          "base_uri": "https://localhost:8080/"
        },
        "id": "gkFmbefvzlQo",
        "outputId": "71601c4d-e478-4ef8-ebe0-291b0593fa04"
      },
      "execution_count": null,
      "outputs": [
        {
          "output_type": "stream",
          "name": "stdout",
          "text": [
            "[5, 10, 6, 3, 10, 4, 5, 6, 3, 4]\n",
            "[8, 1, 2, 5, 5, 5, 5, 9, 2, 8]\n",
            "[5]\n"
          ]
        }
      ]
    },
    {
      "cell_type": "markdown",
      "source": [
        "#list element count"
      ],
      "metadata": {
        "id": "rlhxub0V3GHv"
      }
    },
    {
      "cell_type": "code",
      "source": [
        "import random\n",
        "x = [random.randint(1, 10) for _ in range(1,11)]\n",
        "\n",
        "for i in x:\n",
        "    print(f\"{i} : {x.count(i)}\")"
      ],
      "metadata": {
        "colab": {
          "base_uri": "https://localhost:8080/"
        },
        "id": "PO5BBFNr3Fin",
        "outputId": "b9909dda-7f4a-45ff-df99-75e542bb7bcf"
      },
      "execution_count": null,
      "outputs": [
        {
          "output_type": "stream",
          "name": "stdout",
          "text": [
            "4 : 1\n",
            "7 : 1\n",
            "10 : 4\n",
            "1 : 4\n",
            "10 : 4\n",
            "10 : 4\n",
            "10 : 4\n",
            "1 : 4\n",
            "1 : 4\n",
            "1 : 4\n"
          ]
        }
      ]
    },
    {
      "cell_type": "markdown",
      "source": [
        "#list duplicate removing without change the order"
      ],
      "metadata": {
        "id": "6bTnlzmgeyDb"
      }
    },
    {
      "cell_type": "code",
      "source": [
        "import random\n",
        "x = [random.randint(1, 10) for _ in range(1,11)]\n",
        "y = x.copy()\n",
        "print(y)\n",
        "seen = set()\n",
        "res = []\n",
        "for i in x:\n",
        "  if i not in seen:\n",
        "    res.append(i)\n",
        "    seen.add(i)\n",
        "print(res)\n"
      ],
      "metadata": {
        "colab": {
          "base_uri": "https://localhost:8080/"
        },
        "id": "KeKo7yyrexhP",
        "outputId": "744a324b-6b38-47c1-c549-9f43468c7a10"
      },
      "execution_count": null,
      "outputs": [
        {
          "output_type": "stream",
          "name": "stdout",
          "text": [
            "[2, 5, 4, 9, 5, 9, 6, 2, 8, 3]\n",
            "[2, 5, 4, 9, 6, 8, 3]\n"
          ]
        }
      ]
    },
    {
      "cell_type": "markdown",
      "source": [
        "#List Comprehension"
      ],
      "metadata": {
        "id": "lm1Dsd3HgD0o"
      }
    },
    {
      "cell_type": "code",
      "source": [
        "x = [i ** 2 for i in range(1,11)]\n",
        "print(x)"
      ],
      "metadata": {
        "id": "zaV6IYwfgG3o",
        "outputId": "0f144e21-67c7-4057-9166-b591f847f2a0",
        "colab": {
          "base_uri": "https://localhost:8080/"
        }
      },
      "execution_count": null,
      "outputs": [
        {
          "output_type": "stream",
          "name": "stdout",
          "text": [
            "[1, 4, 9, 16, 25, 36, 49, 64, 81, 100]\n"
          ]
        }
      ]
    }
  ]
}