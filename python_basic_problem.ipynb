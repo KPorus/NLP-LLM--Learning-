{
  "nbformat": 4,
  "nbformat_minor": 0,
  "metadata": {
    "colab": {
      "provenance": [],
      "authorship_tag": "ABX9TyOGeC3rqdnUVgwp911qwVEL",
      "include_colab_link": true
    },
    "kernelspec": {
      "name": "python3",
      "display_name": "Python 3"
    },
    "language_info": {
      "name": "python"
    }
  },
  "cells": [
    {
      "cell_type": "markdown",
      "metadata": {
        "id": "view-in-github",
        "colab_type": "text"
      },
      "source": [
        "<a href=\"https://colab.research.google.com/github/KPorus/machine-learning-and-python/blob/main/python_basic_problem.ipynb\" target=\"_parent\"><img src=\"https://colab.research.google.com/assets/colab-badge.svg\" alt=\"Open In Colab\"/></a>"
      ]
    },
    {
      "cell_type": "markdown",
      "source": [
        "# prime number checker"
      ],
      "metadata": {
        "id": "Pr_vNPumXENz"
      }
    },
    {
      "cell_type": "code",
      "source": [
        "x=int(input(\"enter a number: \"))\n",
        "\n",
        "def prime(x):\n",
        "    for i in range(2,x):\n",
        "        if x%i==0:\n",
        "            return False\n",
        "    return True\n",
        "\n",
        "print(prime(x))"
      ],
      "metadata": {
        "colab": {
          "base_uri": "https://localhost:8080/"
        },
        "id": "T1rCFUPVXIfl",
        "outputId": "9c26df7d-0294-463f-f872-5f6e9694529c"
      },
      "execution_count": 17,
      "outputs": [
        {
          "output_type": "stream",
          "name": "stdout",
          "text": [
            "enter a number4\n",
            "False\n"
          ]
        }
      ]
    },
    {
      "cell_type": "markdown",
      "source": [
        "#list Manipulation"
      ],
      "metadata": {
        "id": "5_BKnPe-VN02"
      }
    },
    {
      "cell_type": "code",
      "execution_count": 11,
      "metadata": {
        "colab": {
          "base_uri": "https://localhost:8080/"
        },
        "id": "0k4oBaC6VKi3",
        "outputId": "41dd8b4d-1601-43f3-bc26-e21991cdb798"
      },
      "outputs": [
        {
          "output_type": "stream",
          "name": "stdout",
          "text": [
            "    0\n",
            "0  10\n",
            "1  20\n",
            "2  30\n",
            "3  40\n",
            "4  50\n",
            "max:50\n",
            "min:10\n",
            "mean:30.0\n"
          ]
        }
      ],
      "source": [
        "import pandas as pd\n",
        "li = [10,20,30,40,50]\n",
        "\n",
        "df = pd.DataFrame(li)\n",
        "print(df)\n",
        "print(f\"max:{df[0].max()}\")\n",
        "print(f\"min:{df[0].min()}\")\n",
        "print(f\"mean:{df[0].mean()}\")"
      ]
    },
    {
      "cell_type": "markdown",
      "source": [
        "#reverse string"
      ],
      "metadata": {
        "id": "9zCVH8P-Wwdf"
      }
    },
    {
      "cell_type": "code",
      "source": [
        "s = \"hello\"\n",
        "while(len(s)>0):\n",
        "    print(s[-1],end=\"\")\n",
        "    s = s[:-1]"
      ],
      "metadata": {
        "colab": {
          "base_uri": "https://localhost:8080/"
        },
        "id": "P72CP27CWwH7",
        "outputId": "6bd80941-bf84-4819-dd78-d7d8c2f4da38"
      },
      "execution_count": 14,
      "outputs": [
        {
          "output_type": "stream",
          "name": "stdout",
          "text": [
            "olleh"
          ]
        }
      ]
    }
  ]
}